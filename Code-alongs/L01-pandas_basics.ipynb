{
 "cells": [
  {
   "cell_type": "code",
   "execution_count": 2,
   "metadata": {},
   "outputs": [],
   "source": [
    "import pandas as pd\n",
    "import matplotlib.pyplot as plt\n"
   ]
  },
  {
   "cell_type": "markdown",
   "metadata": {},
   "source": [
    "# Lecture pandas basics\n",
    "- pandas.Series\n",
    "- pandas.DataFrame\n",
    "- read_csv\n",
    "- indexing\n",
    "- plotting"
   ]
  },
  {
   "cell_type": "markdown",
   "metadata": {},
   "source": [
    "## Pandas Series\n",
    "- can create from dictionary\n",
    "- can create from list\n",
    "- can create from np.array "
   ]
  },
  {
   "cell_type": "code",
   "execution_count": 3,
   "metadata": {},
   "outputs": [
    {
     "data": {
      "text/plain": [
       "AI      26\n",
       "NET     38\n",
       "Java    30\n",
       "UX      28\n",
       "dtype: int64"
      ]
     },
     "execution_count": 3,
     "metadata": {},
     "output_type": "execute_result"
    }
   ],
   "source": [
    "import pandas as pd\n",
    "\n",
    "programs_dict = dict(AI = 26, NET = 38, Java = 30, UX = 28)\n",
    "\n",
    "programs_series = pd.Series(programs_dict)\n",
    "programs_series"
   ]
  },
  {
   "cell_type": "code",
   "execution_count": 14,
   "metadata": {},
   "outputs": [
    {
     "name": "stdout",
     "output_type": "stream",
     "text": [
      "Extract values through indexing:\n",
      "programs_series[0] = 26\n",
      "programs_series[-1] = 28\n",
      "programs_series['UX'] = 28\n",
      "\n",
      "\n",
      "Get Keys:\n",
      "programs_series.keys() = Index(['AI', 'NET', 'Java', 'UX'], dtype='object')\n",
      "programs_series.keys()[0] = 'AI'\n",
      "\n",
      "\n"
     ]
    }
   ],
   "source": [
    "# extract values through indexing\n",
    "print(\"Extract values through indexing:\")\n",
    "print(f\"{programs_series[0] = }\")\n",
    "print(f\"{programs_series[-1] = }\")\n",
    "print(f\"{programs_series['UX'] = }\")\n",
    "print(\"\\n\")\n",
    "\n",
    "# get keys\n",
    "print(\"Get Keys:\")\n",
    "print(f\"{programs_series.keys() = }\")\n",
    "print(f\"{programs_series.keys()[0] = }\")\n",
    "print(\"\\n\")\n",
    "\n",
    "\n"
   ]
  },
  {
   "cell_type": "code",
   "execution_count": 17,
   "metadata": {},
   "outputs": [
    {
     "data": {
      "text/plain": [
       "0    5\n",
       "1    5\n",
       "dtype: int64"
      ]
     },
     "execution_count": 17,
     "metadata": {},
     "output_type": "execute_result"
    }
   ],
   "source": [
    "import random\n",
    "random.seed(1337)\n",
    "\n",
    "dice_series = pd.Series([random.randint(1,6) for _ in range(10)])\n",
    "dice_series.head(2)"
   ]
  },
  {
   "cell_type": "code",
   "execution_count": 21,
   "metadata": {},
   "outputs": [
    {
     "name": "stdout",
     "output_type": "stream",
     "text": [
      "dice_series.min() = 2\n",
      "dice_series.argmin() = 7\n",
      "dice_series.max() = 6\n",
      "dice_series.mean() = 4.4\n",
      "dice_series.median() = 5.0\n"
     ]
    }
   ],
   "source": [
    "\n",
    "print(f\"{dice_series.min() = }\")\n",
    "print(f\"{dice_series.argmin() = }\") # gives index\n",
    "print(f\"{dice_series.max() = }\")\n",
    "print(f\"{dice_series.mean() = }\")\n",
    "print(f\"{dice_series.median() = }\")"
   ]
  },
  {
   "cell_type": "code",
   "execution_count": null,
   "metadata": {},
   "outputs": [],
   "source": []
  }
 ],
 "metadata": {
  "kernelspec": {
   "display_name": "Python 3.10.7 ('Databehandling-Edin-Smlatic-CANNU6A-')",
   "language": "python",
   "name": "python3"
  },
  "language_info": {
   "codemirror_mode": {
    "name": "ipython",
    "version": 3
   },
   "file_extension": ".py",
   "mimetype": "text/x-python",
   "name": "python",
   "nbconvert_exporter": "python",
   "pygments_lexer": "ipython3",
   "version": "3.10.7"
  },
  "orig_nbformat": 4,
  "vscode": {
   "interpreter": {
    "hash": "e387b459890582c0de60f79947d7805171e9159647806d1f18fbfa40dc074849"
   }
  }
 },
 "nbformat": 4,
 "nbformat_minor": 2
}
